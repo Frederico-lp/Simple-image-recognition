{
 "cells": [
  {
   "cell_type": "code",
   "execution_count": 18,
   "metadata": {},
   "outputs": [],
   "source": [
    "import numpy as np\n",
    "import matplotlib.pyplot as plt\n",
    "import os\n",
    "import cv2\n",
    "import random\n",
    "import tensorflow as tf"
   ]
  },
  {
   "cell_type": "code",
   "execution_count": 19,
   "metadata": {},
   "outputs": [
    {
     "name": "stdout",
     "output_type": "stream",
     "text": [
      "24946\n"
     ]
    }
   ],
   "source": [
    "DATADIR = \"../images/PetImages\"\n",
    "CATEGORIES = [\"Cat\", \"Dog\"]\n",
    "IMG_SIZE = 50\n",
    "\n",
    "training_data = []\n",
    "\n",
    "for category in CATEGORIES:\n",
    "    path = os.path.join(DATADIR, category)\n",
    "    class_num = CATEGORIES.index(category)\n",
    "    for image in os.listdir(path):\n",
    "        try: \n",
    "            img_array = cv2.imread(os.path.join(path,image), cv2.IMREAD_GRAYSCALE)\n",
    "            new_array = cv2.resize(img_array, (IMG_SIZE, IMG_SIZE))\n",
    "            training_data.append((new_array, class_num))\n",
    "\n",
    "\n",
    "        except Exception as e:\n",
    "            pass\n",
    "\n",
    "print(len(training_data))"
   ]
  },
  {
   "cell_type": "code",
   "execution_count": 20,
   "metadata": {},
   "outputs": [],
   "source": [
    "random.shuffle(training_data)"
   ]
  },
  {
   "cell_type": "code",
   "execution_count": 28,
   "metadata": {},
   "outputs": [],
   "source": [
    "X = []\n",
    "y = []\n",
    "\n",
    "for features, label in training_data:\n",
    "    X.append(features)\n",
    "    y.append(label)\n",
    "\n",
    "#list to np array with size nº of features, size of image, 1 (grayscale)\n",
    "X = np.array(X).reshape(-1, IMG_SIZE, IMG_SIZE, 1) \n",
    "y = np.array(y)"
   ]
  },
  {
   "cell_type": "code",
   "execution_count": 29,
   "metadata": {},
   "outputs": [],
   "source": [
    "# import pickle\n",
    "\n",
    "# pickle_out = open(\"X.pickle\", \"wb\")\n",
    "# pickle.dump(X, pickle_out)\n",
    "# pickle_out.close()\n",
    "\n",
    "# pickle_out = open(\"y.pickle\", \"wb\")\n",
    "# pickle.dump(y, pickle_out)\n",
    "# pickle_out.close()"
   ]
  },
  {
   "cell_type": "code",
   "execution_count": 30,
   "metadata": {},
   "outputs": [],
   "source": [
    "\n",
    "# X = pickle.load(open(\"X.pickle\", \"rb\"))\n",
    "# y = pickle.load(open(\"y.pickle\", \"rb\"))\n"
   ]
  },
  {
   "cell_type": "code",
   "execution_count": 31,
   "metadata": {},
   "outputs": [],
   "source": [
    "X = X / 255.0"
   ]
  },
  {
   "cell_type": "code",
   "execution_count": 59,
   "metadata": {},
   "outputs": [
    {
     "name": "stdout",
     "output_type": "stream",
     "text": [
      "Model: \"sequential_4\"\n",
      "_________________________________________________________________\n",
      "Layer (type)                 Output Shape              Param #   \n",
      "=================================================================\n",
      "conv2d_12 (Conv2D)           (None, 48, 48, 32)        320       \n",
      "_________________________________________________________________\n",
      "max_pooling2d_8 (MaxPooling2 (None, 24, 24, 32)        0         \n",
      "_________________________________________________________________\n",
      "conv2d_13 (Conv2D)           (None, 22, 22, 64)        18496     \n",
      "_________________________________________________________________\n",
      "conv2d_14 (Conv2D)           (None, 20, 20, 64)        36928     \n",
      "_________________________________________________________________\n",
      "max_pooling2d_9 (MaxPooling2 (None, 10, 10, 64)        0         \n",
      "_________________________________________________________________\n",
      "flatten_4 (Flatten)          (None, 6400)              0         \n",
      "_________________________________________________________________\n",
      "dropout_1 (Dropout)          (None, 6400)              0         \n",
      "_________________________________________________________________\n",
      "dense_8 (Dense)              (None, 64)                409664    \n",
      "_________________________________________________________________\n",
      "dropout_2 (Dropout)          (None, 64)                0         \n",
      "_________________________________________________________________\n",
      "dense_9 (Dense)              (None, 1)                 65        \n",
      "=================================================================\n",
      "Total params: 465,473\n",
      "Trainable params: 465,473\n",
      "Non-trainable params: 0\n",
      "_________________________________________________________________\n"
     ]
    }
   ],
   "source": [
    "model = tf.keras.Sequential([\n",
    "    tf.keras.layers.Conv2D(32, (3,3), activation='relu', input_shape = X.shape[1:]),\n",
    "    tf.keras.layers.MaxPooling2D((2,2)),\n",
    "    tf.keras.layers.Conv2D(64, (3,3), activation='relu'),\n",
    "    tf.keras.layers.Conv2D(64, (3,3), activation='relu'),\n",
    "    tf.keras.layers.MaxPooling2D((2,2)),\n",
    "    tf.keras.layers.Flatten(),\n",
    "    tf.keras.layers.Dropout(0.4),\n",
    "    tf.keras.layers.Dense(64, activation='relu'),\n",
    "    tf.keras.layers.Dropout(0.4),\n",
    "    tf.keras.layers.Dense(1, activation='sigmoid')\n",
    "])\n",
    "\n",
    "\n",
    "model.summary()\n",
    "\n",
    "model.compile(loss = 'binary_crossentropy', optimizer='adam', metrics=['accuracy'])"
   ]
  },
  {
   "cell_type": "code",
   "execution_count": 60,
   "metadata": {},
   "outputs": [
    {
     "name": "stdout",
     "output_type": "stream",
     "text": [
      "Epoch 1/8\n",
      "702/702 [==============================] - 8s 10ms/step - loss: 0.6486 - accuracy: 0.6118 - val_loss: 0.5637 - val_accuracy: 0.7070\n",
      "Epoch 2/8\n",
      "702/702 [==============================] - 7s 10ms/step - loss: 0.5501 - accuracy: 0.7217 - val_loss: 0.5058 - val_accuracy: 0.7539\n",
      "Epoch 3/8\n",
      "702/702 [==============================] - 7s 10ms/step - loss: 0.4894 - accuracy: 0.7662 - val_loss: 0.4713 - val_accuracy: 0.7788\n",
      "Epoch 4/8\n",
      "702/702 [==============================] - 7s 10ms/step - loss: 0.4470 - accuracy: 0.7925 - val_loss: 0.4535 - val_accuracy: 0.7928\n",
      "Epoch 5/8\n",
      "702/702 [==============================] - 7s 10ms/step - loss: 0.4143 - accuracy: 0.8132 - val_loss: 0.4530 - val_accuracy: 0.7788\n",
      "Epoch 6/8\n",
      "702/702 [==============================] - 7s 10ms/step - loss: 0.3893 - accuracy: 0.8282 - val_loss: 0.3811 - val_accuracy: 0.8429\n",
      "Epoch 7/8\n",
      "702/702 [==============================] - 7s 10ms/step - loss: 0.3642 - accuracy: 0.8400 - val_loss: 0.4118 - val_accuracy: 0.8164\n",
      "Epoch 8/8\n",
      "702/702 [==============================] - 7s 10ms/step - loss: 0.3448 - accuracy: 0.8488 - val_loss: 0.3622 - val_accuracy: 0.8477\n"
     ]
    }
   ],
   "source": [
    "history = model.fit(X, y, epochs=8, batch_size=32, validation_split = 0.1)"
   ]
  },
  {
   "cell_type": "code",
   "execution_count": 61,
   "metadata": {},
   "outputs": [],
   "source": [
    "model.save('animals_model.h5')"
   ]
  },
  {
   "cell_type": "code",
   "execution_count": 63,
   "metadata": {},
   "outputs": [
    {
     "data": {
      "image/png": "[encoded data removed]",
      "text/plain": [
       "<Figure size 432x288 with 1 Axes>"
      ]
     },
     "metadata": {
      "needs_background": "light"
     },
     "output_type": "display_data"
    },
    {
     "data": {
      "text/plain": [
       "<Figure size 432x288 with 0 Axes>"
      ]
     },
     "metadata": {},
     "output_type": "display_data"
    }
   ],
   "source": [
    "acc = history.history['accuracy']\n",
    "val_acc = history.history['val_accuracy']\n",
    "loss = history.history['loss']\n",
    "val_loss = history.history['val_loss']\n",
    "\n",
    "epochs = range(len(acc))\n",
    "\n",
    "plt.plot(epochs, acc, 'r', label='Training accuracy')\n",
    "plt.plot(epochs, val_acc, 'b', label='Validation accuracy')\n",
    "plt.title('Training and validation accuracy')\n",
    "plt.legend(loc=0)\n",
    "plt.figure()\n",
    "\n",
    "\n",
    "plt.show()"
   ]
  },
  {
   "cell_type": "code",
   "execution_count": 64,
   "metadata": {},
   "outputs": [],
   "source": [
    "model = tf.keras.models.load_model('animals_model.h5')"
   ]
  },
  {
   "cell_type": "code",
   "execution_count": 65,
   "metadata": {},
   "outputs": [],
   "source": [
    "from numpy import round\n",
    "\n",
    "def predict_image(path):\n",
    "    img = tf.keras.preprocessing.image.load_img(path, grayscale=True, target_size=(50, 50))\n",
    "    img = tf.keras.preprocessing.image.img_to_array(img)\n",
    "    img = img.reshape(-1, 50, 50, 1)\n",
    "    img = img.astype('float32')\n",
    "    img = img / 255.0\n",
    "\n",
    "    predict_value = model.predict(img)\n",
    "    prediction = round(predict_value)\n",
    "    if(prediction):\n",
    "        return \"dog\"\n",
    "    else:\n",
    "        return \"cat\""
   ]
  },
  {
   "cell_type": "code",
   "execution_count": 70,
   "metadata": {},
   "outputs": [
    {
     "data": {
      "text/plain": [
       "'dog'"
      ]
     },
     "execution_count": 70,
     "metadata": {},
     "output_type": "execute_result"
    }
   ],
   "source": [
    "predict_image(\"sample_image1.jpg\")"
   ]
  },
  {
   "cell_type": "code",
   "execution_count": 2,
   "metadata": {},
   "outputs": [
    {
     "name": "stdout",
     "output_type": "stream",
     "text": [
      "'cat'\n"
     ]
    }
   ],
   "source": [
    "predict_image(\"sample_image2.jpg\")"
   ]
  }
 ],
 "metadata": {
  "kernelspec": {
   "display_name": "Python 3.9.12 ('tf-gpu')",
   "language": "python",
   "name": "python3"
  },
  "language_info": {
   "codemirror_mode": {
    "name": "ipython",
    "version": 3
   },
   "file_extension": ".py",
   "mimetype": "text/x-python",
   "name": "python",
   "nbconvert_exporter": "python",
   "pygments_lexer": "ipython3",
   "version": "3.9.12"
  },
  "orig_nbformat": 4,
  "vscode": {
   "interpreter": {
    "hash": "022a3aa652217c8032e622be5aba66fd58e58f1ee6fb837ab1220b61e6f9b3f6"
   }
  }
 },
 "nbformat": 4,
 "nbformat_minor": 2
}
